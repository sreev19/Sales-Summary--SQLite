{
 "cells": [
  {
   "cell_type": "code",
   "execution_count": 1,
   "id": "f7839b59-801d-4436-964d-b93ae36a5207",
   "metadata": {},
   "outputs": [],
   "source": [
    "\n",
    "# Step 1: Import libraries\n",
    "import sqlite3\n",
    "import pandas as pd\n",
    "import matplotlib.pyplot as plt\n",
    "\n"
   ]
  },
  {
   "cell_type": "code",
   "execution_count": 2,
   "id": "8d12f65a-bf3d-49a5-b264-e25e64ba6195",
   "metadata": {},
   "outputs": [],
   "source": [
    "# Step 2: Create and connect to SQLite DB\n",
    "conn = sqlite3.connect(\"sales_data.db\")\n",
    "cursor = conn.cursor()\n",
    "\n"
   ]
  },
  {
   "cell_type": "code",
   "execution_count": 3,
   "id": "b481c82c-8278-4b1c-91f1-e3aa63b93571",
   "metadata": {},
   "outputs": [
    {
     "data": {
      "text/plain": [
       "<sqlite3.Cursor at 0x1e677e89ac0>"
      ]
     },
     "execution_count": 3,
     "metadata": {},
     "output_type": "execute_result"
    }
   ],
   "source": [
    "# Step 3: Create sales table\n",
    "cursor.execute(\"\"\"\n",
    "CREATE TABLE IF NOT EXISTS sales (\n",
    "    id INTEGER PRIMARY KEY AUTOINCREMENT,\n",
    "    product TEXT,\n",
    "    quantity INTEGER,\n",
    "    price REAL\n",
    ")\n",
    "\"\"\")\n",
    "\n",
    "\n"
   ]
  },
  {
   "cell_type": "code",
   "execution_count": 4,
   "id": "2a716c12-3337-4e4a-8aff-efb7525058da",
   "metadata": {},
   "outputs": [],
   "source": [
    "# Step 4: Insert sample data\n",
    "sample_data = [\n",
    "    (\"Laptop\", 5, 700),\n",
    "    (\"Laptop\", 3, 720),\n",
    "    (\"Mouse\", 10, 25),\n",
    "    (\"Mouse\", 15, 20),\n",
    "    (\"Keyboard\", 7, 45),\n",
    "    (\"Keyboard\", 4, 50),\n",
    "    (\"Monitor\", 2, 150),\n",
    "    (\"Monitor\", 3, 160)\n",
    "]\n",
    "\n",
    "cursor.executemany(\"INSERT INTO sales (product, quantity, price) VALUES (?, ?, ?)\", sample_data)\n",
    "conn.commit()\n",
    "\n"
   ]
  },
  {
   "cell_type": "code",
   "execution_count": 5,
   "id": "a6570f91-d28e-4cdf-b617-3d2d3cff0aad",
   "metadata": {},
   "outputs": [
    {
     "name": "stdout",
     "output_type": "stream",
     "text": [
      "=== Sales Summary ===\n",
      "    product  total_qty  revenue\n",
      "0  Keyboard         11    515.0\n",
      "1    Laptop          8   5660.0\n",
      "2   Monitor          5    780.0\n",
      "3     Mouse         25    550.0\n"
     ]
    }
   ],
   "source": [
    "# Step 5: Run SQL query for sales summary\n",
    "query = \"\"\"\n",
    "SELECT \n",
    "    product, \n",
    "    SUM(quantity) AS total_qty, \n",
    "    SUM(quantity * price) AS revenue\n",
    "FROM sales\n",
    "GROUP BY product\n",
    "\"\"\"\n",
    "df = pd.read_sql_query(query, conn)\n",
    "\n",
    "# Step 6: Print results\n",
    "print(\"=== Sales Summary ===\")\n",
    "print(df)\n",
    "\n"
   ]
  },
  {
   "cell_type": "code",
   "execution_count": 6,
   "id": "1d5a6521-0b8b-4e54-84f9-8443b5cf8cfc",
   "metadata": {},
   "outputs": [
    {
     "data": {
      "image/png": "[encoded data removed]",
      "text/plain": [
       "<Figure size 600x400 with 1 Axes>"
      ]
     },
     "metadata": {},
     "output_type": "display_data"
    }
   ],
   "source": [
    "# Step 7: Plot bar chart for revenue by product\n",
    "plt.figure(figsize=(6, 4))\n",
    "plt.bar(df['product'], df['revenue'], color='skyblue', edgecolor='black')\n",
    "plt.xlabel('Product')\n",
    "plt.ylabel('Revenue')\n",
    "plt.title('Revenue by Product')\n",
    "plt.tight_layout()\n",
    "plt.savefig(\"sales_chart.png\")  # Save the chart\n",
    "plt.show()\n",
    "\n",
    "# Step 8: Close connection\n",
    "conn.close()"
   ]
  },
  {
   "cell_type": "code",
   "execution_count": null,
   "id": "91c86a76-2601-4760-b7e8-5fb92d9b16ee",
   "metadata": {},
   "outputs": [],
   "source": []
  }
 ],
 "metadata": {
  "kernelspec": {
   "display_name": "Python 3 (ipykernel)",
   "language": "python",
   "name": "python3"
  },
  "language_info": {
   "codemirror_mode": {
    "name": "ipython",
    "version": 3
   },
   "file_extension": ".py",
   "mimetype": "text/x-python",
   "name": "python",
   "nbconvert_exporter": "python",
   "pygments_lexer": "ipython3",
   "version": "3.12.7"
  }
 },
 "nbformat": 4,
 "nbformat_minor": 5
}
